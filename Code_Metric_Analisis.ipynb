{
  "nbformat": 4,
  "nbformat_minor": 0,
  "metadata": {
    "colab": {
      "provenance": [],
      "gpuType": "T4",
      "authorship_tag": "ABX9TyP2KOmFKHgnKbqDOfp5CaQt",
      "include_colab_link": true
    },
    "kernelspec": {
      "name": "python3",
      "display_name": "Python 3"
    },
    "language_info": {
      "name": "python"
    },
    "accelerator": "GPU"
  },
  "cells": [
    {
      "cell_type": "markdown",
      "metadata": {
        "id": "view-in-github",
        "colab_type": "text"
      },
      "source": [
        "<a href=\"https://colab.research.google.com/github/Brevex/Code-Complexity-Data-Analisis/blob/main/Code_Metric_Analisis.ipynb\" target=\"_parent\"><img src=\"https://colab.research.google.com/assets/colab-badge.svg\" alt=\"Open In Colab\"/></a>"
      ]
    },
    {
      "cell_type": "code",
      "execution_count": null,
      "metadata": {
        "id": "ehtaYSum6Qut"
      },
      "outputs": [],
      "source": [
        "!pip install pandas matplotlib\n",
        "\n",
        "import pandas as pd\n",
        "import numpy as np\n",
        "import seaborn as sns\n",
        "import matplotlib.pyplot as plt"
      ]
    },
    {
      "cell_type": "code",
      "source": [
        "!gdown https://raw.githubusercontent.com/Brevex/Complexity/main/ckclass.csv"
      ],
      "metadata": {
        "id": "hWF5dT0M6uwI"
      },
      "execution_count": null,
      "outputs": []
    },
    {
      "cell_type": "code",
      "source": [
        "df = pd.read_csv('/content/ckclass.csv')\n",
        "df"
      ],
      "metadata": {
        "id": "Yoe-uQgJ6x4N"
      },
      "execution_count": null,
      "outputs": []
    },
    {
      "cell_type": "code",
      "source": [
        "df.info()"
      ],
      "metadata": {
        "id": "NOC0FUrr69R_"
      },
      "execution_count": null,
      "outputs": []
    },
    {
      "cell_type": "code",
      "source": [
        "for analyzedValue in df.columns:\n",
        "    if df[analyzedValue].isnull().any():\n",
        "\n",
        "      missingValuesPercentual = (df[analyzedValue].isnull().sum() * 100) / df.shape[0]\n",
        "      print(f\"{analyzedValue}: {missingValuesPercentual:.3f}% of values are null.\")"
      ],
      "metadata": {
        "id": "QL24kkQO7DuJ"
      },
      "execution_count": null,
      "outputs": []
    },
    {
      "cell_type": "code",
      "source": [
        "for nullValues in df.columns:\n",
        "    if df[nullValues].isnull().any():\n",
        "\n",
        "        print(nullValues + \":\", df[nullValues].isnull().sum())"
      ],
      "metadata": {
        "id": "E_ydC4rk7JLr"
      },
      "execution_count": null,
      "outputs": []
    },
    {
      "cell_type": "code",
      "source": [
        "df.dropna(axis = 0 , inplace = True)"
      ],
      "metadata": {
        "id": "PILiWnX77Rya"
      },
      "execution_count": 7,
      "outputs": []
    },
    {
      "cell_type": "code",
      "source": [
        "df"
      ],
      "metadata": {
        "id": "5bcQyWoi7TPJ"
      },
      "execution_count": null,
      "outputs": []
    },
    {
      "cell_type": "code",
      "source": [
        "# Maintainability Score calculation using apply\n",
        "df['Maintainability Score'] = df[['loopQty', 'comparisonsQty', 'numbersQty', 'variablesQty']].apply(sum, axis = 1)\n",
        "\n",
        "# Calculation of Fan-in and Fan-out Complexity using lambda and apply\n",
        "df['Fan-in and Fan-out Complexity'] = df.apply(lambda row: row['wmc'] * (row['fanin'] * row['fanout']) ** 2, axis=1)\n",
        "\n",
        "# Categorization using cut\n",
        "df['Risk by Cyclomatic Complexity'] = pd.cut(df['wmc'], bins = [-float('inf'), 10, 20, 50, float('inf')], labels = False)\n",
        "df['Risk by Cyclomatic Complexity'] = pd.Categorical(df['Risk by Cyclomatic Complexity'], categories = [0, 1, 2, 3], ordered = True)\n",
        "\n",
        "df['Fan-in and Fan-out Complexity'] = pd.cut(df['Fan-in and Fan-out Complexity'], bins = [-float('inf'), 100, 1000, float('inf')], labels = False)\n",
        "df['Fan-in and Fan-out Complexity'] = pd.Categorical(df['Fan-in and Fan-out Complexity'], categories = [0, 1, 2], ordered = True)\n",
        "\n",
        "df['Maintainability Score'] = pd.cut(df['Maintainability Score'], bins = [-float('inf'), 65, 85, float('inf')], labels = False)\n",
        "df['Maintainability Score'] = pd.Categorical(df['Maintainability Score'], categories = [0, 1, 2], ordered = True)\n",
        "\n",
        "complexity_categories = {\n",
        "\n",
        "    'Risk by Cyclomatic Complexity': ['Low', 'Moderate', 'High', 'Very High'],\n",
        "    'Fan-in and Fan-out Complexity': ['Good', 'Moderate', 'High'],\n",
        "    'Maintainability Score': ['Good', 'Moderate', 'Bad']\n",
        "}\n",
        "\n",
        "# Loop to categorize DataFrame columns\n",
        "for category, labels in complexity_categories.items():\n",
        "    df[category] = df[category].map({i: label for i, label in enumerate(labels)})\n",
        "\n",
        "# Selection of relevant columns for the final table\n",
        "complexity_analysis_table = df[['file', 'class', 'Risk by Cyclomatic Complexity', 'Fan-in and Fan-out Complexity', 'Maintainability Score']]\n",
        "\n",
        "# Export to CSV\n",
        "complexity_analysis_table.to_csv('Complexity_Analysis_Table.csv', index = False)\n",
        "\n",
        "complexity_analysis_df = pd.read_csv('/content/Complexity_Analysis_Table.csv')\n",
        "complexity_analysis_df"
      ],
      "metadata": {
        "id": "cUZvH4la9OnC"
      },
      "execution_count": null,
      "outputs": []
    },
    {
      "cell_type": "code",
      "source": [
        "Risk_by_Cyclomatic_Complexity = ['Low', 'Moderate', 'High', 'Very High']\n",
        "Fanin_and_Fanout_Complexity = ['Good', 'Moderate', 'High']\n",
        "Maintainability_Score = ['Good', 'Moderate', 'Bad']\n",
        "\n",
        "fig, axs = plt.subplots(1, 3, figsize=(15, 5))\n",
        "\n",
        "axs[0].pie(complexity_analysis_df['Risk by Cyclomatic Complexity'].value_counts(), labels = Risk_by_Cyclomatic_Complexity, autopct = \"%0.01f%%\")\n",
        "axs[0].set_title(\"Risk by Cyclomatic Complexity Percentage\")\n",
        "\n",
        "axs[1].pie(complexity_analysis_df['Fan-in and Fan-out Complexity'].value_counts(), labels = Fanin_and_Fanout_Complexity, autopct = \"%0.01f%%\")\n",
        "axs[1].set_title(\"Fan-in and Fan-out Complexity Percentage\")\n",
        "\n",
        "axs[2].pie(complexity_analysis_df['Maintainability Score'].value_counts(), labels = Maintainability_Score, autopct = \"%0.01f%%\")\n",
        "axs[2].set_title(\"Maintainability Score Percentage\")\n",
        "\n",
        "plt.tight_layout()\n",
        "plt.show()"
      ],
      "metadata": {
        "id": "o1asUsh2mJb6"
      },
      "execution_count": null,
      "outputs": []
    }
  ]
}